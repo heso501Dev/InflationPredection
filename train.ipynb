{
 "cells": [
  {
   "cell_type": "code",
   "execution_count": 1,
   "metadata": {},
   "outputs": [
    {
     "name": "stdout",
     "output_type": "stream",
     "text": [
      "<class 'pandas.core.frame.DataFrame'>\n",
      "RangeIndex: 10023 entries, 0 to 10022\n",
      "Data columns (total 12 columns):\n",
      " #   Column            Non-Null Count  Dtype  \n",
      "---  ------            --------------  -----  \n",
      " 0   year              10023 non-null  int64  \n",
      " 1   month             10023 non-null  int64  \n",
      " 2   day               10023 non-null  int64  \n",
      " 3   USD_EUR_value     10023 non-null  int64  \n",
      " 4   USD_EGP           10023 non-null  float64\n",
      " 5   EUR_EGP           10022 non-null  float64\n",
      " 6   cpi_rate          10023 non-null  float64\n",
      " 7   cpi_base_2010     10023 non-null  float64\n",
      " 8   RealInterestRate  10023 non-null  float64\n",
      " 9   InterestRate      10023 non-null  float64\n",
      " 10  XAU_Price         10023 non-null  float64\n",
      " 11  gdp_rate          10023 non-null  float64\n",
      "dtypes: float64(8), int64(4)\n",
      "memory usage: 939.8 KB\n"
     ]
    }
   ],
   "source": [
    "import pandas as pd\n",
    "import numpy as np\n",
    "import seaborn as sns\n",
    "import matplotlib.pyplot as plt\n",
    "from sklearn.metrics import mean_absolute_error\n",
    "from sklearn.model_selection import train_test_split\n",
    "# Read datasets\n",
    "data = pd.read_csv('./InflationIndicator_pro.csv')\n",
    "data.info()"
   ]
  },
  {
   "cell_type": "code",
   "execution_count": 2,
   "metadata": {},
   "outputs": [
    {
     "name": "stdout",
     "output_type": "stream",
     "text": [
      "1.1805002074656983e-07\n"
     ]
    }
   ],
   "source": [
    "from sklearn.tree import DecisionTreeRegressor\n",
    "\n",
    "\n",
    "target_features = [\"RealInterestRate\",\"XAU_Price\",\"gdp_rate\",\"USD_EGP\"]\n",
    "target = data[target_features]\n",
    "X = [\"year\",\"month\",\"day\"]\n",
    "x = data[X]\n",
    "train_X, val_X, train_y, val_y = train_test_split(x, target, random_state = 0)\n",
    "# Define model. Specify a number for random_state to ensure same results each run\n",
    "melbourne_model = DecisionTreeRegressor(random_state=1)\n",
    "# Fit model\n",
    "melbourne_model.fit(x, target)\n",
    "# get predicted prices on validation data\n",
    "val_predictions = melbourne_model.predict(val_X)\n",
    "print(mean_absolute_error(val_y, val_predictions))"
   ]
  },
  {
   "cell_type": "code",
   "execution_count": 3,
   "metadata": {},
   "outputs": [
    {
     "name": "stdout",
     "output_type": "stream",
     "text": [
      "[[-5.81666667e+00  1.02533850e+05  4.20000000e+00  4.69000000e+01]\n",
      " [-5.81666667e+00  1.01756420e+05  4.20000000e+00  4.67500000e+01]\n",
      " [-5.81666667e+00  1.00904450e+05  4.20000000e+00  4.67872000e+01]\n",
      " [-5.81666667e+00  1.02952660e+05  4.20000000e+00  4.74040000e+01]\n",
      " [-5.81666667e+00  1.04194830e+05  4.20000000e+00  4.78222000e+01]]\n"
     ]
    }
   ],
   "source": [
    "print(melbourne_model.predict(x.tail()))"
   ]
  },
  {
   "cell_type": "code",
   "execution_count": 4,
   "metadata": {},
   "outputs": [
    {
     "name": "stdout",
     "output_type": "stream",
     "text": [
      "22.070937969449375\n"
     ]
    }
   ],
   "source": [
    "from sklearn.ensemble import RandomForestRegressor\n",
    "# split data into training and validation data, for both features and target\n",
    "# The split is based on a random number generator. Supplying a numeric value to\n",
    "# the random_state argument guarantees we get the same split every time we\n",
    "# run this script.\n",
    "# Define model\n",
    "melbourne_model = RandomForestRegressor()\n",
    "# Fit model\n",
    "melbourne_model.fit(train_X, train_y)\n",
    "\n",
    "# get predicted prices on validation data\n",
    "val_predictions = melbourne_model.predict(val_X)\n",
    "print(mean_absolute_error(val_y, val_predictions))"
   ]
  },
  {
   "cell_type": "code",
   "execution_count": 5,
   "metadata": {},
   "outputs": [
    {
     "name": "stdout",
     "output_type": "stream",
     "text": [
      "2075.4283284527983\n"
     ]
    }
   ],
   "source": [
    "from sklearn.kernel_ridge import KernelRidge\n",
    "\n",
    "clf = KernelRidge()\n",
    "\n",
    "clf.fit(train_X, train_y)\n",
    "\n",
    "val_predictions = clf.predict(val_X)\n",
    "\n",
    "print(mean_absolute_error(val_y, val_predictions))"
   ]
  }
 ],
 "metadata": {
  "kernelspec": {
   "display_name": "Python 3",
   "language": "python",
   "name": "python3"
  },
  "language_info": {
   "codemirror_mode": {
    "name": "ipython",
    "version": 3
   },
   "file_extension": ".py",
   "mimetype": "text/x-python",
   "name": "python",
   "nbconvert_exporter": "python",
   "pygments_lexer": "ipython3",
   "version": "3.12.3"
  }
 },
 "nbformat": 4,
 "nbformat_minor": 2
}
